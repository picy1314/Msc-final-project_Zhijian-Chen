{
 "cells": [
  {
   "cell_type": "code",
   "execution_count": 1,
   "metadata": {},
   "outputs": [],
   "source": [
    "import numpy as np\n",
    "import pandas as pd\n",
    "# import talib as ta\n",
    "import datetime\n",
    "import matplotlib as mpl\n",
    "import matplotlib.pyplot as plt\n",
    "import seaborn as sns\n",
    "%matplotlib inline\n",
    "import warnings; warnings.simplefilter('ignore')\n",
    "from sklearn import tree\n",
    "from sklearn.ensemble import RandomForestRegressor\n",
    "from sklearn.metrics import f1_score\n",
    "from sklearn.metrics import mean_absolute_error,mean_squared_error,r2_score\n",
    "from sklearn.decomposition import PCA\n",
    "from numpy import linalg as LA\n",
    "from tqdm import *\n",
    "import math as math\n"
   ]
  },
  {
   "cell_type": "code",
   "execution_count": 2,
   "metadata": {},
   "outputs": [],
   "source": [
    "df = pd.read_excel('2021-01-29(102000886.IB).xls')\n",
    "# del df['Unnamed: 0']"
   ]
  },
  {
   "cell_type": "code",
   "execution_count": 3,
   "metadata": {},
   "outputs": [],
   "source": [
    "# data processing"
   ]
  },
  {
   "cell_type": "code",
   "execution_count": 4,
   "metadata": {},
   "outputs": [
    {
     "data": {
      "text/html": [
       "<div>\n",
       "<style scoped>\n",
       "    .dataframe tbody tr th:only-of-type {\n",
       "        vertical-align: middle;\n",
       "    }\n",
       "\n",
       "    .dataframe tbody tr th {\n",
       "        vertical-align: top;\n",
       "    }\n",
       "\n",
       "    .dataframe thead th {\n",
       "        text-align: right;\n",
       "    }\n",
       "</style>\n",
       "<table border=\"1\" class=\"dataframe\">\n",
       "  <thead>\n",
       "    <tr style=\"text-align: right;\">\n",
       "      <th></th>\n",
       "      <th>时间</th>\n",
       "      <th>可信度</th>\n",
       "      <th>待偿年限</th>\n",
       "      <th>日间估价全价</th>\n",
       "      <th>日间应计利息</th>\n",
       "      <th>估价净价</th>\n",
       "      <th>估价收益率(%)</th>\n",
       "      <th>剩余本金</th>\n",
       "      <th>估价修正久期</th>\n",
       "      <th>估价凸性</th>\n",
       "      <th>估价基点价值</th>\n",
       "      <th>日终估价全价</th>\n",
       "      <th>日终应计利息</th>\n",
       "    </tr>\n",
       "  </thead>\n",
       "  <tbody>\n",
       "    <tr>\n",
       "      <th>0</th>\n",
       "      <td>2021-01-28</td>\n",
       "      <td>推荐</td>\n",
       "      <td>2.2466</td>\n",
       "      <td>99.0995</td>\n",
       "      <td>2.2377</td>\n",
       "      <td>96.8618</td>\n",
       "      <td>4.4632</td>\n",
       "      <td>100.0</td>\n",
       "      <td>2.0667</td>\n",
       "      <td>6.3771</td>\n",
       "      <td>0.0205</td>\n",
       "      <td>99.1076</td>\n",
       "      <td>2.2458</td>\n",
       "    </tr>\n",
       "    <tr>\n",
       "      <th>1</th>\n",
       "      <td>2021-01-27</td>\n",
       "      <td>推荐</td>\n",
       "      <td>2.2493</td>\n",
       "      <td>99.1167</td>\n",
       "      <td>2.2295</td>\n",
       "      <td>96.8872</td>\n",
       "      <td>4.4490</td>\n",
       "      <td>100.0</td>\n",
       "      <td>2.0696</td>\n",
       "      <td>6.3922</td>\n",
       "      <td>0.0205</td>\n",
       "      <td>99.1249</td>\n",
       "      <td>2.2377</td>\n",
       "    </tr>\n",
       "    <tr>\n",
       "      <th>2</th>\n",
       "      <td>2021-01-26</td>\n",
       "      <td>推荐</td>\n",
       "      <td>2.2521</td>\n",
       "      <td>99.1574</td>\n",
       "      <td>2.2214</td>\n",
       "      <td>96.9360</td>\n",
       "      <td>4.4235</td>\n",
       "      <td>100.0</td>\n",
       "      <td>2.0727</td>\n",
       "      <td>6.4088</td>\n",
       "      <td>0.0206</td>\n",
       "      <td>99.1655</td>\n",
       "      <td>2.2295</td>\n",
       "    </tr>\n",
       "    <tr>\n",
       "      <th>3</th>\n",
       "      <td>2021-01-25</td>\n",
       "      <td>推荐</td>\n",
       "      <td>2.2548</td>\n",
       "      <td>99.1514</td>\n",
       "      <td>2.2133</td>\n",
       "      <td>96.9382</td>\n",
       "      <td>4.4207</td>\n",
       "      <td>100.0</td>\n",
       "      <td>2.0754</td>\n",
       "      <td>6.4226</td>\n",
       "      <td>0.0206</td>\n",
       "      <td>99.1596</td>\n",
       "      <td>2.2214</td>\n",
       "    </tr>\n",
       "    <tr>\n",
       "      <th>4</th>\n",
       "      <td>2021-01-22</td>\n",
       "      <td>推荐</td>\n",
       "      <td>2.2630</td>\n",
       "      <td>99.0068</td>\n",
       "      <td>2.1888</td>\n",
       "      <td>96.8180</td>\n",
       "      <td>4.4737</td>\n",
       "      <td>100.0</td>\n",
       "      <td>2.0822</td>\n",
       "      <td>6.4561</td>\n",
       "      <td>0.0206</td>\n",
       "      <td>99.0150</td>\n",
       "      <td>2.1970</td>\n",
       "    </tr>\n",
       "  </tbody>\n",
       "</table>\n",
       "</div>"
      ],
      "text/plain": [
       "           时间 可信度    待偿年限   日间估价全价  日间应计利息     估价净价  估价收益率(%)   剩余本金  估价修正久期  \\\n",
       "0  2021-01-28  推荐  2.2466  99.0995  2.2377  96.8618    4.4632  100.0  2.0667   \n",
       "1  2021-01-27  推荐  2.2493  99.1167  2.2295  96.8872    4.4490  100.0  2.0696   \n",
       "2  2021-01-26  推荐  2.2521  99.1574  2.2214  96.9360    4.4235  100.0  2.0727   \n",
       "3  2021-01-25  推荐  2.2548  99.1514  2.2133  96.9382    4.4207  100.0  2.0754   \n",
       "4  2021-01-22  推荐  2.2630  99.0068  2.1888  96.8180    4.4737  100.0  2.0822   \n",
       "\n",
       "     估价凸性  估价基点价值   日终估价全价  日终应计利息  \n",
       "0  6.3771  0.0205  99.1076  2.2458  \n",
       "1  6.3922  0.0205  99.1249  2.2377  \n",
       "2  6.4088  0.0206  99.1655  2.2295  \n",
       "3  6.4226  0.0206  99.1596  2.2214  \n",
       "4  6.4561  0.0206  99.0150  2.1970  "
      ]
     },
     "execution_count": 4,
     "metadata": {},
     "output_type": "execute_result"
    }
   ],
   "source": [
    "df.head()"
   ]
  },
  {
   "cell_type": "code",
   "execution_count": 5,
   "metadata": {},
   "outputs": [],
   "source": [
    "df = df.dropna(how='any')"
   ]
  },
  {
   "cell_type": "code",
   "execution_count": 6,
   "metadata": {},
   "outputs": [],
   "source": [
    "df = df.sort_values(by='时间')"
   ]
  },
  {
   "cell_type": "code",
   "execution_count": 7,
   "metadata": {},
   "outputs": [
    {
     "data": {
      "text/plain": [
       "['推荐']"
      ]
     },
     "execution_count": 7,
     "metadata": {},
     "output_type": "execute_result"
    }
   ],
   "source": [
    "df['可信度'].unique().tolist()"
   ]
  },
  {
   "cell_type": "code",
   "execution_count": 8,
   "metadata": {},
   "outputs": [
    {
     "data": {
      "text/plain": [
       "Index(['时间', '可信度', '待偿年限', '日间估价全价', '日间应计利息', '估价净价', '估价收益率(%)', '剩余本金',\n",
       "       '估价修正久期', '估价凸性', '估价基点价值', '日终估价全价', '日终应计利息'],\n",
       "      dtype='object')"
      ]
     },
     "execution_count": 8,
     "metadata": {},
     "output_type": "execute_result"
    }
   ],
   "source": [
    "df.columns"
   ]
  },
  {
   "cell_type": "code",
   "execution_count": 9,
   "metadata": {},
   "outputs": [],
   "source": [
    "choose_factor = [i for i in df.columns if i not in ['可信度','日终估价全价','剩余本金','日终应计利息','时间']]"
   ]
  },
  {
   "cell_type": "code",
   "execution_count": 10,
   "metadata": {},
   "outputs": [],
   "source": [
    "choose_feature = df[choose_factor]"
   ]
  },
  {
   "cell_type": "code",
   "execution_count": 11,
   "metadata": {},
   "outputs": [
    {
     "data": {
      "text/html": [
       "<div>\n",
       "<style scoped>\n",
       "    .dataframe tbody tr th:only-of-type {\n",
       "        vertical-align: middle;\n",
       "    }\n",
       "\n",
       "    .dataframe tbody tr th {\n",
       "        vertical-align: top;\n",
       "    }\n",
       "\n",
       "    .dataframe thead th {\n",
       "        text-align: right;\n",
       "    }\n",
       "</style>\n",
       "<table border=\"1\" class=\"dataframe\">\n",
       "  <thead>\n",
       "    <tr style=\"text-align: right;\">\n",
       "      <th></th>\n",
       "      <th>待偿年限</th>\n",
       "      <th>日间估价全价</th>\n",
       "      <th>日间应计利息</th>\n",
       "      <th>估价净价</th>\n",
       "      <th>估价收益率(%)</th>\n",
       "      <th>估价修正久期</th>\n",
       "      <th>估价凸性</th>\n",
       "      <th>估价基点价值</th>\n",
       "    </tr>\n",
       "  </thead>\n",
       "  <tbody>\n",
       "    <tr>\n",
       "      <th>188</th>\n",
       "      <td>2.9973</td>\n",
       "      <td>100.0643</td>\n",
       "      <td>0.0081</td>\n",
       "      <td>100.0562</td>\n",
       "      <td>2.9501</td>\n",
       "      <td>2.8282</td>\n",
       "      <td>10.8739</td>\n",
       "      <td>0.0283</td>\n",
       "    </tr>\n",
       "    <tr>\n",
       "      <th>187</th>\n",
       "      <td>2.9945</td>\n",
       "      <td>100.1350</td>\n",
       "      <td>0.0163</td>\n",
       "      <td>100.1187</td>\n",
       "      <td>2.9279</td>\n",
       "      <td>2.8261</td>\n",
       "      <td>10.8611</td>\n",
       "      <td>0.0283</td>\n",
       "    </tr>\n",
       "    <tr>\n",
       "      <th>186</th>\n",
       "      <td>2.9781</td>\n",
       "      <td>100.1375</td>\n",
       "      <td>0.0651</td>\n",
       "      <td>100.0724</td>\n",
       "      <td>2.9439</td>\n",
       "      <td>2.8097</td>\n",
       "      <td>10.7521</td>\n",
       "      <td>0.0281</td>\n",
       "    </tr>\n",
       "    <tr>\n",
       "      <th>185</th>\n",
       "      <td>2.9753</td>\n",
       "      <td>99.9958</td>\n",
       "      <td>0.0732</td>\n",
       "      <td>99.9226</td>\n",
       "      <td>2.9972</td>\n",
       "      <td>2.8055</td>\n",
       "      <td>10.7231</td>\n",
       "      <td>0.0281</td>\n",
       "    </tr>\n",
       "    <tr>\n",
       "      <th>184</th>\n",
       "      <td>2.9726</td>\n",
       "      <td>99.7403</td>\n",
       "      <td>0.0814</td>\n",
       "      <td>99.6590</td>\n",
       "      <td>3.0914</td>\n",
       "      <td>2.8002</td>\n",
       "      <td>10.6855</td>\n",
       "      <td>0.0279</td>\n",
       "    </tr>\n",
       "    <tr>\n",
       "      <th>...</th>\n",
       "      <td>...</td>\n",
       "      <td>...</td>\n",
       "      <td>...</td>\n",
       "      <td>...</td>\n",
       "      <td>...</td>\n",
       "      <td>...</td>\n",
       "      <td>...</td>\n",
       "      <td>...</td>\n",
       "    </tr>\n",
       "    <tr>\n",
       "      <th>4</th>\n",
       "      <td>2.2630</td>\n",
       "      <td>99.0068</td>\n",
       "      <td>2.1888</td>\n",
       "      <td>96.8180</td>\n",
       "      <td>4.4737</td>\n",
       "      <td>2.0822</td>\n",
       "      <td>6.4561</td>\n",
       "      <td>0.0206</td>\n",
       "    </tr>\n",
       "    <tr>\n",
       "      <th>3</th>\n",
       "      <td>2.2548</td>\n",
       "      <td>99.1514</td>\n",
       "      <td>2.2133</td>\n",
       "      <td>96.9382</td>\n",
       "      <td>4.4207</td>\n",
       "      <td>2.0754</td>\n",
       "      <td>6.4226</td>\n",
       "      <td>0.0206</td>\n",
       "    </tr>\n",
       "    <tr>\n",
       "      <th>2</th>\n",
       "      <td>2.2521</td>\n",
       "      <td>99.1574</td>\n",
       "      <td>2.2214</td>\n",
       "      <td>96.9360</td>\n",
       "      <td>4.4235</td>\n",
       "      <td>2.0727</td>\n",
       "      <td>6.4088</td>\n",
       "      <td>0.0206</td>\n",
       "    </tr>\n",
       "    <tr>\n",
       "      <th>1</th>\n",
       "      <td>2.2493</td>\n",
       "      <td>99.1167</td>\n",
       "      <td>2.2295</td>\n",
       "      <td>96.8872</td>\n",
       "      <td>4.4490</td>\n",
       "      <td>2.0696</td>\n",
       "      <td>6.3922</td>\n",
       "      <td>0.0205</td>\n",
       "    </tr>\n",
       "    <tr>\n",
       "      <th>0</th>\n",
       "      <td>2.2466</td>\n",
       "      <td>99.0995</td>\n",
       "      <td>2.2377</td>\n",
       "      <td>96.8618</td>\n",
       "      <td>4.4632</td>\n",
       "      <td>2.0667</td>\n",
       "      <td>6.3771</td>\n",
       "      <td>0.0205</td>\n",
       "    </tr>\n",
       "  </tbody>\n",
       "</table>\n",
       "<p>189 rows × 8 columns</p>\n",
       "</div>"
      ],
      "text/plain": [
       "       待偿年限    日间估价全价  日间应计利息      估价净价  估价收益率(%)  估价修正久期     估价凸性  估价基点价值\n",
       "188  2.9973  100.0643  0.0081  100.0562    2.9501  2.8282  10.8739  0.0283\n",
       "187  2.9945  100.1350  0.0163  100.1187    2.9279  2.8261  10.8611  0.0283\n",
       "186  2.9781  100.1375  0.0651  100.0724    2.9439  2.8097  10.7521  0.0281\n",
       "185  2.9753   99.9958  0.0732   99.9226    2.9972  2.8055  10.7231  0.0281\n",
       "184  2.9726   99.7403  0.0814   99.6590    3.0914  2.8002  10.6855  0.0279\n",
       "..      ...       ...     ...       ...       ...     ...      ...     ...\n",
       "4    2.2630   99.0068  2.1888   96.8180    4.4737  2.0822   6.4561  0.0206\n",
       "3    2.2548   99.1514  2.2133   96.9382    4.4207  2.0754   6.4226  0.0206\n",
       "2    2.2521   99.1574  2.2214   96.9360    4.4235  2.0727   6.4088  0.0206\n",
       "1    2.2493   99.1167  2.2295   96.8872    4.4490  2.0696   6.3922  0.0205\n",
       "0    2.2466   99.0995  2.2377   96.8618    4.4632  2.0667   6.3771  0.0205\n",
       "\n",
       "[189 rows x 8 columns]"
      ]
     },
     "execution_count": 11,
     "metadata": {},
     "output_type": "execute_result"
    }
   ],
   "source": [
    "choose_feature"
   ]
  },
  {
   "cell_type": "code",
   "execution_count": 12,
   "metadata": {},
   "outputs": [],
   "source": [
    "choose_label = df['日终估价全价']"
   ]
  },
  {
   "cell_type": "code",
   "execution_count": 13,
   "metadata": {},
   "outputs": [],
   "source": [
    "#Separate the data for training and test sets"
   ]
  },
  {
   "cell_type": "code",
   "execution_count": 14,
   "metadata": {},
   "outputs": [],
   "source": [
    "X_train = choose_feature.head(150)\n",
    "y_train = choose_label.head(150)\n",
    "X_test = choose_feature.tail(120)\n",
    "y_test = choose_label.tail(120)"
   ]
  },
  {
   "cell_type": "code",
   "execution_count": 15,
   "metadata": {},
   "outputs": [],
   "source": [
    "import seaborn as sns\n",
    "plt.rcParams['font.sans-serif'] = ['SimHei']\n",
    "plt.rcParams['axes.unicode_minus'] = False\n",
    "def dataPlot():\n",
    "    '''\n",
    "    基于相关性系数计算结果来绘制\n",
    "    '''\n",
    "    fig,ax=plt.subplots(figsize=(18,8))\n",
    "#     key_list=['A','B','C','D','E','F','G','H']\n",
    "    sns.heatmap(pd.DataFrame(np.round(X_train[choose_factor].corr(),4),columns=choose_factor,index=choose_factor),annot=True,vmax=1,vmin=0,xticklabels=True,\n",
    "                             yticklabels=True,square=True,cmap=\"YlGnBu\")\n",
    "    ax.set_title(' 影响度前十因子相关性 ', fontsize=18)\n",
    "    ax.set_ylabel('Y', fontsize=16)\n",
    "    ax.set_xlabel('X', fontsize=16)"
   ]
  },
  {
   "cell_type": "code",
   "execution_count": 16,
   "metadata": {},
   "outputs": [
    {
     "data": {
      "image/png": "[encoded data removed]",
      "text/plain": [
       "<Figure size 1296x576 with 2 Axes>"
      ]
     },
     "metadata": {
      "needs_background": "light"
     },
     "output_type": "display_data"
    }
   ],
   "source": [
    "dataPlot()"
   ]
  },
  {
   "cell_type": "code",
   "execution_count": 17,
   "metadata": {},
   "outputs": [],
   "source": [
    "import xgboost as xgb \n",
    "import sklearn.datasets as datasets\n",
    "import pandas as pd\n",
    "from sklearn.model_selection import train_test_split\n",
    "from sklearn.preprocessing import StandardScaler\n",
    "from sklearn.pipeline import Pipeline\n",
    "from sklearn.ensemble import RandomForestRegressor\n",
    "from sklearn.decomposition import PCA"
   ]
  },
  {
   "cell_type": "code",
   "execution_count": 18,
   "metadata": {},
   "outputs": [],
   "source": [
    "#Introduce random forest model"
   ]
  },
  {
   "cell_type": "code",
   "execution_count": 19,
   "metadata": {},
   "outputs": [],
   "source": [
    "# from sklearn.model_selection import train_test_split\n",
    "from sklearn import tree\n",
    "from sklearn.metrics import confusion_matrix\n",
    "from sklearn.ensemble import RandomForestClassifier"
   ]
  },
  {
   "cell_type": "code",
   "execution_count": 20,
   "metadata": {},
   "outputs": [
    {
     "name": "stdout",
     "output_type": "stream",
     "text": [
      "待偿年限        False\n",
      "日间估价全价      False\n",
      "日间应计利息      False\n",
      "估价净价        False\n",
      "估价收益率(%)    False\n",
      "估价修正久期      False\n",
      "估价凸性        False\n",
      "估价基点价值      False\n",
      "dtype: bool\n"
     ]
    }
   ],
   "source": [
    "print(np.isnan(choose_feature).any())"
   ]
  },
  {
   "cell_type": "code",
   "execution_count": 21,
   "metadata": {},
   "outputs": [
    {
     "name": "stdout",
     "output_type": "stream",
     "text": [
      "Mean Absolute Error: 0.005657366666644729\n",
      "Mean Squared Error: 9.25827092540185e-05\n",
      "Root Mean Squared Error: 0.009621990919452091\n"
     ]
    }
   ],
   "source": [
    "from sklearn.preprocessing import StandardScaler\n",
    "\n",
    "sc = StandardScaler()\n",
    "X_train = sc.fit_transform(X_train)\n",
    "X_test = sc.transform(X_test)\n",
    "\n",
    "# Train a random forest to solve regression problems\n",
    "from sklearn.ensemble import RandomForestRegressor\n",
    "\n",
    "regressor = RandomForestRegressor(n_estimators=200, random_state=0)\n",
    "regressor.fit(X_train, y_train)\n",
    "y_pred = regressor.predict(X_test)\n",
    "\n",
    "# Evaluate regression performance\n",
    "from sklearn import metrics\n",
    "\n",
    "print('Mean Absolute Error:', metrics.mean_absolute_error(y_test, y_pred))\n",
    "print('Mean Squared Error:', metrics.mean_squared_error(y_test, y_pred))\n",
    "print('Root Mean Squared Error:',\n",
    "      np.sqrt(metrics.mean_squared_error(y_test, y_pred)))"
   ]
  },
  {
   "cell_type": "code",
   "execution_count": 22,
   "metadata": {},
   "outputs": [],
   "source": [
    "plots = pd.DataFrame(y_pred,y_test).reset_index()"
   ]
  },
  {
   "cell_type": "code",
   "execution_count": 23,
   "metadata": {},
   "outputs": [],
   "source": [
    "plots.columns = ['predict','true']"
   ]
  },
  {
   "cell_type": "code",
   "execution_count": 24,
   "metadata": {},
   "outputs": [],
   "source": [
    "plots.index = df['时间'].tail(120)"
   ]
  },
  {
   "cell_type": "code",
   "execution_count": 25,
   "metadata": {},
   "outputs": [
    {
     "data": {
      "text/html": [
       "<div>\n",
       "<style scoped>\n",
       "    .dataframe tbody tr th:only-of-type {\n",
       "        vertical-align: middle;\n",
       "    }\n",
       "\n",
       "    .dataframe tbody tr th {\n",
       "        vertical-align: top;\n",
       "    }\n",
       "\n",
       "    .dataframe thead th {\n",
       "        text-align: right;\n",
       "    }\n",
       "</style>\n",
       "<table border=\"1\" class=\"dataframe\">\n",
       "  <thead>\n",
       "    <tr style=\"text-align: right;\">\n",
       "      <th></th>\n",
       "      <th>predict</th>\n",
       "      <th>true</th>\n",
       "    </tr>\n",
       "    <tr>\n",
       "      <th>时间</th>\n",
       "      <th></th>\n",
       "      <th></th>\n",
       "    </tr>\n",
       "  </thead>\n",
       "  <tbody>\n",
       "    <tr>\n",
       "      <th>2020-08-07</th>\n",
       "      <td>98.5026</td>\n",
       "      <td>98.501356</td>\n",
       "    </tr>\n",
       "    <tr>\n",
       "      <th>2020-08-10</th>\n",
       "      <td>98.5621</td>\n",
       "      <td>98.562983</td>\n",
       "    </tr>\n",
       "    <tr>\n",
       "      <th>2020-08-11</th>\n",
       "      <td>98.6071</td>\n",
       "      <td>98.606154</td>\n",
       "    </tr>\n",
       "    <tr>\n",
       "      <th>2020-08-12</th>\n",
       "      <td>98.6597</td>\n",
       "      <td>98.656288</td>\n",
       "    </tr>\n",
       "    <tr>\n",
       "      <th>2020-08-13</th>\n",
       "      <td>98.6971</td>\n",
       "      <td>98.696357</td>\n",
       "    </tr>\n",
       "    <tr>\n",
       "      <th>...</th>\n",
       "      <td>...</td>\n",
       "      <td>...</td>\n",
       "    </tr>\n",
       "    <tr>\n",
       "      <th>2021-01-22</th>\n",
       "      <td>99.0150</td>\n",
       "      <td>99.021488</td>\n",
       "    </tr>\n",
       "    <tr>\n",
       "      <th>2021-01-25</th>\n",
       "      <td>99.1596</td>\n",
       "      <td>99.163054</td>\n",
       "    </tr>\n",
       "    <tr>\n",
       "      <th>2021-01-26</th>\n",
       "      <td>99.1655</td>\n",
       "      <td>99.163953</td>\n",
       "    </tr>\n",
       "    <tr>\n",
       "      <th>2021-01-27</th>\n",
       "      <td>99.1249</td>\n",
       "      <td>99.138967</td>\n",
       "    </tr>\n",
       "    <tr>\n",
       "      <th>2021-01-28</th>\n",
       "      <td>99.1076</td>\n",
       "      <td>99.127917</td>\n",
       "    </tr>\n",
       "  </tbody>\n",
       "</table>\n",
       "<p>120 rows × 2 columns</p>\n",
       "</div>"
      ],
      "text/plain": [
       "            predict       true\n",
       "时间                            \n",
       "2020-08-07  98.5026  98.501356\n",
       "2020-08-10  98.5621  98.562983\n",
       "2020-08-11  98.6071  98.606154\n",
       "2020-08-12  98.6597  98.656288\n",
       "2020-08-13  98.6971  98.696357\n",
       "...             ...        ...\n",
       "2021-01-22  99.0150  99.021488\n",
       "2021-01-25  99.1596  99.163054\n",
       "2021-01-26  99.1655  99.163953\n",
       "2021-01-27  99.1249  99.138967\n",
       "2021-01-28  99.1076  99.127917\n",
       "\n",
       "[120 rows x 2 columns]"
      ]
     },
     "execution_count": 25,
     "metadata": {},
     "output_type": "execute_result"
    }
   ],
   "source": [
    "plots"
   ]
  },
  {
   "cell_type": "code",
   "execution_count": 26,
   "metadata": {},
   "outputs": [
    {
     "data": {
      "text/plain": [
       "array([<AxesSubplot:xlabel='时间'>, <AxesSubplot:xlabel='时间'>], dtype=object)"
      ]
     },
     "execution_count": 26,
     "metadata": {},
     "output_type": "execute_result"
    },
    {
     "data": {
      "image/png": "[encoded data removed]",
      "text/plain": [
       "<Figure size 864x576 with 2 Axes>"
      ]
     },
     "metadata": {
      "needs_background": "light"
     },
     "output_type": "display_data"
    }
   ],
   "source": [
    "plots.plot(figsize=(12,8),subplots=True)"
   ]
  },
  {
   "cell_type": "code",
   "execution_count": 27,
   "metadata": {},
   "outputs": [],
   "source": [
    "#View the importance of factors"
   ]
  },
  {
   "cell_type": "code",
   "execution_count": 28,
   "metadata": {},
   "outputs": [
    {
     "data": {
      "text/html": [
       "<div>\n",
       "<style scoped>\n",
       "    .dataframe tbody tr th:only-of-type {\n",
       "        vertical-align: middle;\n",
       "    }\n",
       "\n",
       "    .dataframe tbody tr th {\n",
       "        vertical-align: top;\n",
       "    }\n",
       "\n",
       "    .dataframe thead th {\n",
       "        text-align: right;\n",
       "    }\n",
       "</style>\n",
       "<table border=\"1\" class=\"dataframe\">\n",
       "  <thead>\n",
       "    <tr style=\"text-align: right;\">\n",
       "      <th></th>\n",
       "      <th>Features</th>\n",
       "      <th>Importances</th>\n",
       "    </tr>\n",
       "  </thead>\n",
       "  <tbody>\n",
       "    <tr>\n",
       "      <th>1</th>\n",
       "      <td>日间估价全价</td>\n",
       "      <td>0.934742</td>\n",
       "    </tr>\n",
       "    <tr>\n",
       "      <th>4</th>\n",
       "      <td>估价收益率(%)</td>\n",
       "      <td>0.0118599</td>\n",
       "    </tr>\n",
       "    <tr>\n",
       "      <th>2</th>\n",
       "      <td>日间应计利息</td>\n",
       "      <td>0.0109272</td>\n",
       "    </tr>\n",
       "    <tr>\n",
       "      <th>3</th>\n",
       "      <td>估价净价</td>\n",
       "      <td>0.00986669</td>\n",
       "    </tr>\n",
       "    <tr>\n",
       "      <th>0</th>\n",
       "      <td>待偿年限</td>\n",
       "      <td>0.00973225</td>\n",
       "    </tr>\n",
       "    <tr>\n",
       "      <th>6</th>\n",
       "      <td>估价凸性</td>\n",
       "      <td>0.00899281</td>\n",
       "    </tr>\n",
       "    <tr>\n",
       "      <th>5</th>\n",
       "      <td>估价修正久期</td>\n",
       "      <td>0.00720551</td>\n",
       "    </tr>\n",
       "    <tr>\n",
       "      <th>7</th>\n",
       "      <td>估价基点价值</td>\n",
       "      <td>0.00667415</td>\n",
       "    </tr>\n",
       "  </tbody>\n",
       "</table>\n",
       "</div>"
      ],
      "text/plain": [
       "   Features Importances\n",
       "1    日间估价全价    0.934742\n",
       "4  估价收益率(%)   0.0118599\n",
       "2    日间应计利息   0.0109272\n",
       "3      估价净价  0.00986669\n",
       "0      待偿年限  0.00973225\n",
       "6      估价凸性  0.00899281\n",
       "5    估价修正久期  0.00720551\n",
       "7    估价基点价值  0.00667415"
      ]
     },
     "execution_count": 28,
     "metadata": {},
     "output_type": "execute_result"
    }
   ],
   "source": [
    "# View features\n",
    "importances = regressor.feature_importances_ \n",
    "importances_df = pd.DataFrame([choose_factor, importances], index=['Features', 'Importances']).T\n",
    "importances_df.sort_values(by='Importances',ascending=False).head(10)"
   ]
  },
  {
   "cell_type": "code",
   "execution_count": 29,
   "metadata": {},
   "outputs": [],
   "source": [
    "plt.rcParams['font.sans-serif']=['SimHei']\n",
    "plt.rcParams['axes.unicode_minus'] = False"
   ]
  },
  {
   "cell_type": "code",
   "execution_count": 30,
   "metadata": {},
   "outputs": [
    {
     "data": {
      "text/plain": [
       "<AxesSubplot:title={'center':'因子重要性排序'}, xlabel='Features'>"
      ]
     },
     "execution_count": 30,
     "metadata": {},
     "output_type": "execute_result"
    },
    {
     "data": {
      "image/png": "[encoded data removed]",
      "text/plain": [
       "<Figure size 1008x432 with 1 Axes>"
      ]
     },
     "metadata": {
      "needs_background": "light"
     },
     "output_type": "display_data"
    }
   ],
   "source": [
    "importances_df.set_index('Features').sort_values(by='Importances',ascending=False).head(10).plot.bar(figsize=(14,6),title='因子重要性排序')"
   ]
  },
  {
   "cell_type": "code",
   "execution_count": null,
   "metadata": {},
   "outputs": [],
   "source": []
  }
 ],
 "metadata": {
  "kernelspec": {
   "display_name": "Python 3",
   "language": "python",
   "name": "python3"
  },
  "language_info": {
   "codemirror_mode": {
    "name": "ipython",
    "version": 3
   },
   "file_extension": ".py",
   "mimetype": "text/x-python",
   "name": "python",
   "nbconvert_exporter": "python",
   "pygments_lexer": "ipython3",
   "version": "3.8.5"
  }
 },
 "nbformat": 4,
 "nbformat_minor": 4
}
