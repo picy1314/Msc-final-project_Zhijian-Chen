{
 "cells": [
  {
   "cell_type": "code",
   "execution_count": 3,
   "metadata": {},
   "outputs": [],
   "source": [
    "import numpy as np\n",
    "import pandas as pd\n",
    "# import talib as ta\n",
    "import datetime\n",
    "import matplotlib as mpl\n",
    "import matplotlib.pyplot as plt\n",
    "import seaborn as sns\n",
    "%matplotlib inline\n",
    "import warnings; warnings.simplefilter('ignore')\n",
    "from sklearn import tree\n",
    "from sklearn.ensemble import RandomForestRegressor\n",
    "from sklearn.metrics import f1_score\n",
    "from sklearn.metrics import mean_absolute_error,mean_squared_error,r2_score\n",
    "from sklearn.decomposition import PCA\n",
    "from numpy import linalg as LA\n",
    "from tqdm import *\n",
    "import math as math"
   ]
  },
  {
   "cell_type": "code",
   "execution_count": 4,
   "metadata": {},
   "outputs": [],
   "source": [
    "df = pd.read_excel('edit.xls')"
   ]
  },
  {
   "cell_type": "code",
   "execution_count": 5,
   "metadata": {},
   "outputs": [],
   "source": [
    "#Discard rows and columns containing null values\n",
    "df = df.dropna(how='any')"
   ]
  },
  {
   "cell_type": "code",
   "execution_count": 6,
   "metadata": {},
   "outputs": [],
   "source": [
    "#sort by date\n",
    "df = df.sort_values(by='时间')"
   ]
  },
  {
   "cell_type": "code",
   "execution_count": 7,
   "metadata": {},
   "outputs": [],
   "source": [
    "choose_factor = [i for i in df.columns if i not in ['可信度','剩余本金','时间','真实值']]"
   ]
  },
  {
   "cell_type": "code",
   "execution_count": 8,
   "metadata": {},
   "outputs": [],
   "source": [
    "choose_feature = df[choose_factor]"
   ]
  },
  {
   "cell_type": "code",
   "execution_count": 9,
   "metadata": {},
   "outputs": [
    {
     "data": {
      "text/html": [
       "<div>\n",
       "<style scoped>\n",
       "    .dataframe tbody tr th:only-of-type {\n",
       "        vertical-align: middle;\n",
       "    }\n",
       "\n",
       "    .dataframe tbody tr th {\n",
       "        vertical-align: top;\n",
       "    }\n",
       "\n",
       "    .dataframe thead th {\n",
       "        text-align: right;\n",
       "    }\n",
       "</style>\n",
       "<table border=\"1\" class=\"dataframe\">\n",
       "  <thead>\n",
       "    <tr style=\"text-align: right;\">\n",
       "      <th></th>\n",
       "      <th>待偿年限</th>\n",
       "      <th>日间估价全价</th>\n",
       "      <th>日间应计利息</th>\n",
       "      <th>估价净价</th>\n",
       "      <th>估价收益率(%)</th>\n",
       "      <th>估价修正久期</th>\n",
       "      <th>估价凸性</th>\n",
       "      <th>估价基点价值</th>\n",
       "      <th>日终估价全价</th>\n",
       "      <th>日终应计利息</th>\n",
       "    </tr>\n",
       "  </thead>\n",
       "  <tbody>\n",
       "    <tr>\n",
       "      <th>187</th>\n",
       "      <td>2.9973</td>\n",
       "      <td>100.0643</td>\n",
       "      <td>0.0081</td>\n",
       "      <td>100.0562</td>\n",
       "      <td>2.9501</td>\n",
       "      <td>2.8282</td>\n",
       "      <td>10.8739</td>\n",
       "      <td>0.0283</td>\n",
       "      <td>100.0725</td>\n",
       "      <td>0.0163</td>\n",
       "    </tr>\n",
       "    <tr>\n",
       "      <th>186</th>\n",
       "      <td>2.9945</td>\n",
       "      <td>100.1350</td>\n",
       "      <td>0.0163</td>\n",
       "      <td>100.1187</td>\n",
       "      <td>2.9279</td>\n",
       "      <td>2.8261</td>\n",
       "      <td>10.8611</td>\n",
       "      <td>0.0283</td>\n",
       "      <td>100.1431</td>\n",
       "      <td>0.0244</td>\n",
       "    </tr>\n",
       "    <tr>\n",
       "      <th>185</th>\n",
       "      <td>2.9781</td>\n",
       "      <td>100.1375</td>\n",
       "      <td>0.0651</td>\n",
       "      <td>100.0724</td>\n",
       "      <td>2.9439</td>\n",
       "      <td>2.8097</td>\n",
       "      <td>10.7521</td>\n",
       "      <td>0.0281</td>\n",
       "      <td>100.1456</td>\n",
       "      <td>0.0732</td>\n",
       "    </tr>\n",
       "    <tr>\n",
       "      <th>184</th>\n",
       "      <td>2.9753</td>\n",
       "      <td>99.9958</td>\n",
       "      <td>0.0732</td>\n",
       "      <td>99.9226</td>\n",
       "      <td>2.9972</td>\n",
       "      <td>2.8055</td>\n",
       "      <td>10.7231</td>\n",
       "      <td>0.0281</td>\n",
       "      <td>100.0039</td>\n",
       "      <td>0.0814</td>\n",
       "    </tr>\n",
       "    <tr>\n",
       "      <th>183</th>\n",
       "      <td>2.9726</td>\n",
       "      <td>99.7403</td>\n",
       "      <td>0.0814</td>\n",
       "      <td>99.6590</td>\n",
       "      <td>3.0914</td>\n",
       "      <td>2.8002</td>\n",
       "      <td>10.6855</td>\n",
       "      <td>0.0279</td>\n",
       "      <td>99.7485</td>\n",
       "      <td>0.0895</td>\n",
       "    </tr>\n",
       "    <tr>\n",
       "      <th>...</th>\n",
       "      <td>...</td>\n",
       "      <td>...</td>\n",
       "      <td>...</td>\n",
       "      <td>...</td>\n",
       "      <td>...</td>\n",
       "      <td>...</td>\n",
       "      <td>...</td>\n",
       "      <td>...</td>\n",
       "      <td>...</td>\n",
       "      <td>...</td>\n",
       "    </tr>\n",
       "    <tr>\n",
       "      <th>4</th>\n",
       "      <td>2.2658</td>\n",
       "      <td>98.9664</td>\n",
       "      <td>2.1807</td>\n",
       "      <td>96.7857</td>\n",
       "      <td>4.4875</td>\n",
       "      <td>2.0845</td>\n",
       "      <td>6.4677</td>\n",
       "      <td>0.0206</td>\n",
       "      <td>98.9745</td>\n",
       "      <td>2.1888</td>\n",
       "    </tr>\n",
       "    <tr>\n",
       "      <th>3</th>\n",
       "      <td>2.2630</td>\n",
       "      <td>99.0068</td>\n",
       "      <td>2.1888</td>\n",
       "      <td>96.8180</td>\n",
       "      <td>4.4737</td>\n",
       "      <td>2.0822</td>\n",
       "      <td>6.4561</td>\n",
       "      <td>0.0206</td>\n",
       "      <td>99.0150</td>\n",
       "      <td>2.1970</td>\n",
       "    </tr>\n",
       "    <tr>\n",
       "      <th>2</th>\n",
       "      <td>2.2548</td>\n",
       "      <td>99.1514</td>\n",
       "      <td>2.2133</td>\n",
       "      <td>96.9382</td>\n",
       "      <td>4.4207</td>\n",
       "      <td>2.0754</td>\n",
       "      <td>6.4226</td>\n",
       "      <td>0.0206</td>\n",
       "      <td>99.1596</td>\n",
       "      <td>2.2214</td>\n",
       "    </tr>\n",
       "    <tr>\n",
       "      <th>1</th>\n",
       "      <td>2.2521</td>\n",
       "      <td>99.1574</td>\n",
       "      <td>2.2214</td>\n",
       "      <td>96.9360</td>\n",
       "      <td>4.4235</td>\n",
       "      <td>2.0727</td>\n",
       "      <td>6.4088</td>\n",
       "      <td>0.0206</td>\n",
       "      <td>99.1655</td>\n",
       "      <td>2.2295</td>\n",
       "    </tr>\n",
       "    <tr>\n",
       "      <th>0</th>\n",
       "      <td>2.2493</td>\n",
       "      <td>99.1167</td>\n",
       "      <td>2.2295</td>\n",
       "      <td>96.8872</td>\n",
       "      <td>4.4490</td>\n",
       "      <td>2.0696</td>\n",
       "      <td>6.3922</td>\n",
       "      <td>0.0205</td>\n",
       "      <td>99.1249</td>\n",
       "      <td>2.2377</td>\n",
       "    </tr>\n",
       "  </tbody>\n",
       "</table>\n",
       "<p>188 rows × 10 columns</p>\n",
       "</div>"
      ],
      "text/plain": [
       "       待偿年限    日间估价全价  日间应计利息      估价净价  估价收益率(%)  估价修正久期     估价凸性  估价基点价值  \\\n",
       "187  2.9973  100.0643  0.0081  100.0562    2.9501  2.8282  10.8739  0.0283   \n",
       "186  2.9945  100.1350  0.0163  100.1187    2.9279  2.8261  10.8611  0.0283   \n",
       "185  2.9781  100.1375  0.0651  100.0724    2.9439  2.8097  10.7521  0.0281   \n",
       "184  2.9753   99.9958  0.0732   99.9226    2.9972  2.8055  10.7231  0.0281   \n",
       "183  2.9726   99.7403  0.0814   99.6590    3.0914  2.8002  10.6855  0.0279   \n",
       "..      ...       ...     ...       ...       ...     ...      ...     ...   \n",
       "4    2.2658   98.9664  2.1807   96.7857    4.4875  2.0845   6.4677  0.0206   \n",
       "3    2.2630   99.0068  2.1888   96.8180    4.4737  2.0822   6.4561  0.0206   \n",
       "2    2.2548   99.1514  2.2133   96.9382    4.4207  2.0754   6.4226  0.0206   \n",
       "1    2.2521   99.1574  2.2214   96.9360    4.4235  2.0727   6.4088  0.0206   \n",
       "0    2.2493   99.1167  2.2295   96.8872    4.4490  2.0696   6.3922  0.0205   \n",
       "\n",
       "       日终估价全价  日终应计利息  \n",
       "187  100.0725  0.0163  \n",
       "186  100.1431  0.0244  \n",
       "185  100.1456  0.0732  \n",
       "184  100.0039  0.0814  \n",
       "183   99.7485  0.0895  \n",
       "..        ...     ...  \n",
       "4     98.9745  2.1888  \n",
       "3     99.0150  2.1970  \n",
       "2     99.1596  2.2214  \n",
       "1     99.1655  2.2295  \n",
       "0     99.1249  2.2377  \n",
       "\n",
       "[188 rows x 10 columns]"
      ]
     },
     "execution_count": 9,
     "metadata": {},
     "output_type": "execute_result"
    }
   ],
   "source": [
    "choose_feature"
   ]
  },
  {
   "cell_type": "code",
   "execution_count": 10,
   "metadata": {},
   "outputs": [],
   "source": [
    "choose_label = df['真实值']"
   ]
  },
  {
   "cell_type": "code",
   "execution_count": 11,
   "metadata": {},
   "outputs": [],
   "source": [
    "X_train = choose_feature.tail(120)\n",
    "y_train = choose_label.tail(120)\n",
    "X_test = choose_feature.head(60)\n",
    "y_test = choose_label.head(60)"
   ]
  },
  {
   "cell_type": "code",
   "execution_count": 12,
   "metadata": {},
   "outputs": [],
   "source": [
    "import xgboost as xgb \n",
    "import sklearn.datasets as datasets\n",
    "import pandas as pd\n",
    "from sklearn.model_selection import train_test_split\n",
    "from sklearn.preprocessing import StandardScaler\n",
    "from sklearn.pipeline import Pipeline\n",
    "from sklearn.ensemble import RandomForestRegressor\n",
    "from sklearn.decomposition import PCA"
   ]
  },
  {
   "cell_type": "code",
   "execution_count": 13,
   "metadata": {},
   "outputs": [],
   "source": [
    "# from sklearn.model_selection import train_test_split\n",
    "from sklearn import tree\n",
    "from sklearn.metrics import confusion_matrix\n",
    "from sklearn.ensemble import RandomForestClassifier"
   ]
  },
  {
   "cell_type": "code",
   "execution_count": 14,
   "metadata": {},
   "outputs": [
    {
     "name": "stdout",
     "output_type": "stream",
     "text": [
      "Mean Absolute Error: 0.22845610833329483\n",
      "Mean Squared Error: 0.08666372465585202\n",
      "Root Mean Squared Error: 0.2943870320782694\n"
     ]
    }
   ],
   "source": [
    "#Data standardisation\n",
    "from sklearn.preprocessing import StandardScaler\n",
    "sc = StandardScaler()\n",
    "X_train = sc.fit_transform(X_train)\n",
    "X_test = sc.transform(X_test)\n",
    "\n",
    "# Train a random forest to solve regression problems\n",
    "from sklearn.ensemble import RandomForestRegressor\n",
    "\n",
    "regressor = RandomForestRegressor(n_estimators=200, random_state=0)\n",
    "regressor.fit(X_train, y_train)\n",
    "y_pred = regressor.predict(X_test)\n",
    "\n",
    "# Evaluate regression performance\n",
    "from sklearn import metrics\n",
    "\n",
    "print('Mean Absolute Error:', metrics.mean_absolute_error(y_test, y_pred))\n",
    "print('Mean Squared Error:', metrics.mean_squared_error(y_test, y_pred))\n",
    "print('Root Mean Squared Error:',np.sqrt(metrics.mean_squared_error(y_test, y_pred)))"
   ]
  },
  {
   "cell_type": "code",
   "execution_count": 15,
   "metadata": {},
   "outputs": [],
   "source": [
    "plots = pd.DataFrame(y_pred,y_test).reset_index()"
   ]
  },
  {
   "cell_type": "code",
   "execution_count": 16,
   "metadata": {},
   "outputs": [],
   "source": [
    "plots.columns = ['true','predict']"
   ]
  },
  {
   "cell_type": "code",
   "execution_count": 17,
   "metadata": {},
   "outputs": [
    {
     "data": {
      "text/plain": [
       "<AxesSubplot:>"
      ]
     },
     "execution_count": 17,
     "metadata": {},
     "output_type": "execute_result"
    },
    {
     "data": {
      "image/png": "[encoded data removed]",
      "text/plain": [
       "<Figure size 864x576 with 1 Axes>"
      ]
     },
     "metadata": {
      "needs_background": "light"
     },
     "output_type": "display_data"
    }
   ],
   "source": [
    "plots.plot(figsize=(12,8))"
   ]
  },
  {
   "cell_type": "code",
   "execution_count": 18,
   "metadata": {},
   "outputs": [
    {
     "data": {
      "text/plain": [
       "[<matplotlib.lines.Line2D at 0x1eec71f3190>]"
      ]
     },
     "execution_count": 18,
     "metadata": {},
     "output_type": "execute_result"
    },
    {
     "data": {
      "image/png": "[encoded data removed]",
      "text/plain": [
       "<Figure size 432x288 with 1 Axes>"
      ]
     },
     "metadata": {
      "needs_background": "light"
     },
     "output_type": "display_data"
    }
   ],
   "source": [
    "x = np.arange(60)\n",
    "plt.plot(x, y_pred)\n",
    "plt.plot(x, y_test)"
   ]
  },
  {
   "cell_type": "code",
   "execution_count": 19,
   "metadata": {},
   "outputs": [
    {
     "data": {
      "text/html": [
       "<div>\n",
       "<style scoped>\n",
       "    .dataframe tbody tr th:only-of-type {\n",
       "        vertical-align: middle;\n",
       "    }\n",
       "\n",
       "    .dataframe tbody tr th {\n",
       "        vertical-align: top;\n",
       "    }\n",
       "\n",
       "    .dataframe thead th {\n",
       "        text-align: right;\n",
       "    }\n",
       "</style>\n",
       "<table border=\"1\" class=\"dataframe\">\n",
       "  <thead>\n",
       "    <tr style=\"text-align: right;\">\n",
       "      <th></th>\n",
       "      <th>Features</th>\n",
       "      <th>Importances</th>\n",
       "    </tr>\n",
       "  </thead>\n",
       "  <tbody>\n",
       "    <tr>\n",
       "      <th>1</th>\n",
       "      <td>日间估价全价</td>\n",
       "      <td>0.495845</td>\n",
       "    </tr>\n",
       "    <tr>\n",
       "      <th>8</th>\n",
       "      <td>日终估价全价</td>\n",
       "      <td>0.458192</td>\n",
       "    </tr>\n",
       "    <tr>\n",
       "      <th>3</th>\n",
       "      <td>估价净价</td>\n",
       "      <td>0.0125677</td>\n",
       "    </tr>\n",
       "    <tr>\n",
       "      <th>4</th>\n",
       "      <td>估价收益率(%)</td>\n",
       "      <td>0.0112422</td>\n",
       "    </tr>\n",
       "    <tr>\n",
       "      <th>2</th>\n",
       "      <td>日间应计利息</td>\n",
       "      <td>0.00442385</td>\n",
       "    </tr>\n",
       "    <tr>\n",
       "      <th>9</th>\n",
       "      <td>日终应计利息</td>\n",
       "      <td>0.00419014</td>\n",
       "    </tr>\n",
       "    <tr>\n",
       "      <th>0</th>\n",
       "      <td>待偿年限</td>\n",
       "      <td>0.00404274</td>\n",
       "    </tr>\n",
       "    <tr>\n",
       "      <th>6</th>\n",
       "      <td>估价凸性</td>\n",
       "      <td>0.00362663</td>\n",
       "    </tr>\n",
       "    <tr>\n",
       "      <th>5</th>\n",
       "      <td>估价修正久期</td>\n",
       "      <td>0.00340671</td>\n",
       "    </tr>\n",
       "    <tr>\n",
       "      <th>7</th>\n",
       "      <td>估价基点价值</td>\n",
       "      <td>0.00246326</td>\n",
       "    </tr>\n",
       "  </tbody>\n",
       "</table>\n",
       "</div>"
      ],
      "text/plain": [
       "   Features Importances\n",
       "1    日间估价全价    0.495845\n",
       "8    日终估价全价    0.458192\n",
       "3      估价净价   0.0125677\n",
       "4  估价收益率(%)   0.0112422\n",
       "2    日间应计利息  0.00442385\n",
       "9    日终应计利息  0.00419014\n",
       "0      待偿年限  0.00404274\n",
       "6      估价凸性  0.00362663\n",
       "5    估价修正久期  0.00340671\n",
       "7    估价基点价值  0.00246326"
      ]
     },
     "execution_count": 19,
     "metadata": {},
     "output_type": "execute_result"
    }
   ],
   "source": [
    "# View features\n",
    "importances = regressor.feature_importances_ \n",
    "importances_df = pd.DataFrame([choose_factor, importances], index=['Features', 'Importances']).T\n",
    "importances_df.sort_values(by='Importances',ascending=False).head(10)"
   ]
  },
  {
   "cell_type": "code",
   "execution_count": 20,
   "metadata": {},
   "outputs": [],
   "source": [
    "from sklearn.linear_model import LinearRegression  # 线性回归\n",
    "model = LinearRegression(copy_X=True, fit_intercept=True, n_jobs=1, normalize=False)\n",
    "model.fit(X_train,y_train)   # 线性回归建模\n",
    "predicted = model.predict(X_test)"
   ]
  },
  {
   "cell_type": "code",
   "execution_count": 21,
   "metadata": {},
   "outputs": [
    {
     "data": {
      "text/plain": [
       "[<matplotlib.lines.Line2D at 0x1eec725e6d0>]"
      ]
     },
     "execution_count": 21,
     "metadata": {},
     "output_type": "execute_result"
    },
    {
     "data": {
      "image/png": "[encoded data removed]",
      "text/plain": [
       "<Figure size 432x288 with 1 Axes>"
      ]
     },
     "metadata": {
      "needs_background": "light"
     },
     "output_type": "display_data"
    }
   ],
   "source": [
    "x = np.arange(60)\n",
    "plt.plot(x, predicted)\n",
    "plt.plot(x, y_test)"
   ]
  },
  {
   "cell_type": "code",
   "execution_count": 23,
   "metadata": {},
   "outputs": [],
   "source": []
  },
  {
   "cell_type": "code",
   "execution_count": null,
   "metadata": {},
   "outputs": [],
   "source": []
  }
 ],
 "metadata": {
  "kernelspec": {
   "display_name": "Python 3",
   "language": "python",
   "name": "python3"
  },
  "language_info": {
   "codemirror_mode": {
    "name": "ipython",
    "version": 3
   },
   "file_extension": ".py",
   "mimetype": "text/x-python",
   "name": "python",
   "nbconvert_exporter": "python",
   "pygments_lexer": "ipython3",
   "version": "3.8.5"
  }
 },
 "nbformat": 4,
 "nbformat_minor": 4
}
